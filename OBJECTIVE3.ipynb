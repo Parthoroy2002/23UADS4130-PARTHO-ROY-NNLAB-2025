{
 "cells": [
  {
   "cell_type": "code",
   "execution_count": 4,
   "id": "983c0192-1856-42b1-a3cd-ee7bb13d77ff",
   "metadata": {},
   "outputs": [
    {
     "name": "stdout",
     "output_type": "stream",
     "text": [
      "Epoch 1 completed\n",
      "Epoch 2 completed\n",
      "Epoch 3 completed\n",
      "Epoch 4 completed\n",
      "Epoch 5 completed\n",
      "Epoch 6 completed\n",
      "Epoch 7 completed\n",
      "Epoch 8 completed\n",
      "Epoch 9 completed\n",
      "Epoch 10 completed\n",
      "Epoch 11 completed\n",
      "Epoch 12 completed\n",
      "Epoch 13 completed\n",
      "Epoch 14 completed\n",
      "Epoch 15 completed\n",
      "Epoch 16 completed\n",
      "Epoch 17 completed\n",
      "Epoch 18 completed\n",
      "Epoch 19 completed\n",
      "Epoch 20 completed\n",
      "Test Accuracy: 95.63%\n"
     ]
    }
   ],
   "source": [
    "#OBJECTIVE:Implementation of BPNN using TensorFlow Library.\n",
    "\n",
    "#This code implements a simple Backpropagation Neural Network (BPNN) using TensorFlow without Keras or NumPy.\n",
    "#It loads the MNIST dataset, normalizes and flattens the images, and defines a neural network with one hidden layer of 128 neurons. The model is trained using the Adam optimizer and sparse categorical cross-entropy loss for classification. \n",
    "#After training for five epochs, the model's accuracy is evaluated on the test dataset.\n",
    "\n",
    "\n",
    "#Code:-\n",
    "\n",
    "import tensorflow as tf\n",
    "\n",
    "# Load MNIST dataset from TensorFlow Datasets\n",
    "(x_train, y_train), (x_test, y_test) = tf.keras.datasets.mnist.load_data()\n",
    "\n",
    "# Normalize input data\n",
    "x_train, x_test = tf.cast(x_train, tf.float32) / 255.0, tf.cast(x_test, tf.float32) / 255.0\n",
    "\n",
    "# Flatten images\n",
    "x_train, x_test = tf.reshape(x_train, [-1, 28 * 28]), tf.reshape(x_test, [-1, 28 * 28])\n",
    "\n",
    "# Define model parameters\n",
    "hidden_units = 128\n",
    "output_size = 10\n",
    "\n",
    "# Initialize weights and biases\n",
    "W1 = tf.Variable(tf.random.normal([28 * 28, hidden_units]))\n",
    "b1 = tf.Variable(tf.zeros([hidden_units]))\n",
    "W2 = tf.Variable(tf.random.normal([hidden_units, output_size]))\n",
    "b2 = tf.Variable(tf.zeros([output_size]))\n",
    "\n",
    "# Define forward pass\n",
    "def forward_pass(x):\n",
    "    hidden_layer = tf.nn.sigmoid(tf.matmul(x, W1) + b1)\n",
    "    return tf.nn.sigmoid(tf.matmul(hidden_layer, W2) + b2)\n",
    "\n",
    "# Define loss function and optimizer\n",
    "def compute_loss(y_true, y_pred):\n",
    "    return tf.reduce_mean(tf.losses.sparse_categorical_crossentropy(y_true, y_pred))\n",
    "\n",
    "optimizer = tf.optimizers.Adam()\n",
    "\n",
    "# Training loop\n",
    "epochs = 20\n",
    "batch_size = 32\n",
    "dataset = tf.data.Dataset.from_tensor_slices((x_train, y_train)).batch(batch_size)\n",
    "for epoch in range(epochs):\n",
    "    for x_batch, y_batch in dataset:\n",
    "        with tf.GradientTape() as tape:\n",
    "            loss = compute_loss(y_batch, forward_pass(x_batch))\n",
    "        gradients = tape.gradient(loss, [W1, b1, W2, b2])\n",
    "        optimizer.apply_gradients(zip(gradients, [W1, b1, W2, b2]))\n",
    "    print(f\"Epoch {epoch+1} completed\")\n",
    "\n",
    "# Evaluate the model\n",
    "accuracy = tf.reduce_mean(tf.cast(tf.argmax(forward_pass(x_test), axis=1) == y_test, tf.float32))\n",
    "print(f\"Test Accuracy: {accuracy * 100:.2f}%\")\n",
    "\n"
   ]
  },
  {
   "cell_type": "code",
   "execution_count": null,
   "id": "080777ab-7f57-4aab-a146-056825ecfae3",
   "metadata": {},
   "outputs": [],
   "source": [
    "# Comments about this model:\n",
    "# This simplified BPNN model uses TensorFlow without Keras and NumPy.\n",
    "# It loads MNIST using TensorFlow, flattens images, and implements a basic neural network with one hidden layer."
   ]
  }
 ],
 "metadata": {
  "kernelspec": {
   "display_name": "Python 3 (ipykernel)",
   "language": "python",
   "name": "python3"
  },
  "language_info": {
   "codemirror_mode": {
    "name": "ipython",
    "version": 3
   },
   "file_extension": ".py",
   "mimetype": "text/x-python",
   "name": "python",
   "nbconvert_exporter": "python",
   "pygments_lexer": "ipython3",
   "version": "3.12.2"
  }
 },
 "nbformat": 4,
 "nbformat_minor": 5
}
