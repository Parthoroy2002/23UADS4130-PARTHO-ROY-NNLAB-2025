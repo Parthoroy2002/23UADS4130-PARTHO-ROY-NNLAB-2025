{
 "cells": [
  {
   "cell_type": "code",
   "execution_count": null,
   "id": "be7b5013-4701-48df-8445-fa3bb89b8807",
   "metadata": {},
   "outputs": [],
   "source": [
    "OBJECTIVE 2: WAP 2.\tWAP to implement a multi-layer perceptron (MLP) network with one hidden layer using numpy in Python.\n",
    "Demonstrate that it can learn the XOR Boolean function.\n"
   ]
  },
  {
   "cell_type": "code",
   "execution_count": null,
   "id": "4dbe780b-5cda-48ac-8951-513e18751910",
   "metadata": {},
   "outputs": [],
   "source": [
    "# Model Description: Multi-Layer Perceptron for Boolean Functions\n",
    "\n",
    "### Overview\n",
    "This implementation builds a multi-layer perceptron (MLP) using basic perceptrons** to learn Boolean functions, including NAND and custom logic functions.\n",
    "Each function is first trained on a ingle-layer perceptron, and their outputs serve as inputs for a final perceptron, effectively forming a two-layer neural network.\n",
    "\n",
    "### Model Architecture\n",
    "1. Single-Layer Perceptrons for Boolean Functions\n",
    "   - Each perceptron learns a different Boolean function (NAND and custom functions).\n",
    "   - Uses a step activation function to classify binary outputs.\n",
    "   - Trained using Perceptron Learning Rule (PLA) with weight updates.\n",
    "\n",
    "2. Final Perceptron Layer\n",
    "   - The outputs of the first layer perceptrons are combined.\n",
    "   - Another perceptron is trained to map these outputs to the final function.\n",
    "\n",
    "#Training Process\n",
    "1. Initialize perceptrons with random weights.\n",
    "2. Train each perceptron using supervised learning on Boolean truth tables.\n",
    "3. Evaluate and generate predictions for each function.\n",
    "4. Combine the predictions into a final dataset.\n",
    "5. Train a final perceptron to map the combined outputs to the final desired output.\n",
    "\n",
    "This model effectively shows how a simple perceptron network can be used to construct a multi-layer perceptron, proving that a single-layer perceptron is not\n",
    "enough to solve non-linearly separable functions like XOR, but stacking multiple perceptrons enables the network to learn more complex decision boundaries.\n"
   ]
  },
  {
   "cell_type": "code",
   "execution_count": 2,
   "id": "3fc818c9-50a0-497e-8e80-071f79ef1852",
   "metadata": {},
   "outputs": [
    {
     "name": "stdout",
     "output_type": "stream",
     "text": [
      "Fun1 Accuracy: 100.00% | Predictions: [0 0 0 1]\n",
      "Fun2 Accuracy: 100.00% | Predictions: [0 0 1 0]\n",
      "Fun3 Accuracy: 100.00% | Predictions: [0 1 0 0]\n",
      "Fun4 Accuracy: 100.00% | Predictions: [1 0 0 0]\n",
      "Final Perceptron Accuracy: 100.00% | Predictions: [0 1 1 0]\n"
     ]
    },
    {
     "data": {
      "image/png": "[encoded data removed]",
      "text/plain": [
       "<Figure size 500x400 with 2 Axes>"
      ]
     },
     "metadata": {},
     "output_type": "display_data"
    }
   ],
   "source": [
    "import numpy as np\n",
    "import matplotlib.pyplot as plt\n",
    "import seaborn as sns\n",
    "from sklearn.metrics import confusion_matrix\n",
    "\n",
    "class Perceptron:\n",
    "    def __init__(self, input_size, learning_rate=0.1, epochs=100):\n",
    "        self.weights = np.random.randn(input_size + 1)  # +1 for bias\n",
    "        self.learning_rate = learning_rate\n",
    "        self.epochs = epochs\n",
    "\n",
    "    def activation(self, x):\n",
    "        return 1 if x >= 0 else 0\n",
    "\n",
    "    def predict(self, x):\n",
    "        x = np.insert(x, 0, 1)  # Add bias term\n",
    "        return self.activation(np.dot(self.weights, x))\n",
    "\n",
    "    def train(self, X, y):\n",
    "        X = np.c_[np.ones(X.shape[0]), X]  # Add bias column\n",
    "        for _ in range(self.epochs):\n",
    "            for i in range(X.shape[0]):\n",
    "                y_pred = self.activation(np.dot(self.weights, X[i]))\n",
    "                self.weights += self.learning_rate * (y[i] - y_pred) * X[i]\n",
    "\n",
    "    def evaluate(self, X, y):\n",
    "        y_pred = np.array([self.predict(x) for x in X])\n",
    "        accuracy = np.mean(y_pred == y) * 100\n",
    "        return accuracy, y_pred\n",
    "\n",
    "# **Function to Train and Evaluate a Perceptron**\n",
    "def train_perceptron(X, y, name):\n",
    "    p = Perceptron(input_size=X.shape[1])\n",
    "    p.train(X, y)\n",
    "    accuracy, predictions = p.evaluate(X, y)\n",
    "    print(f\"{name} Accuracy: {accuracy:.2f}% | Predictions: {predictions}\")\n",
    "    return predictions, y\n",
    "\n",
    "# **Truth Tables for Boolean Functions**\n",
    "fun_X = np.array([[0, 0], [0, 1], [1, 0], [1, 1]])\n",
    "\n",
    "fun1_y = np.array([0, 0, 0, 1])  # NAND\n",
    "fun2_y = np.array([0, 0, 1, 0])  # Custom function\n",
    "fun3_y = np.array([0, 1, 0, 0])  # Custom function\n",
    "fun4_y = np.array([1, 0, 0, 0])  # Custom function\n",
    "\n",
    "# **Train Perceptrons for Individual Functions**\n",
    "fun1_predictions, _ = train_perceptron(fun_X, fun1_y, \"Fun1\")\n",
    "fun2_predictions, _ = train_perceptron(fun_X, fun2_y, \"Fun2\")\n",
    "fun3_predictions, _ = train_perceptron(fun_X, fun3_y, \"Fun3\")\n",
    "fun4_predictions, _ = train_perceptron(fun_X, fun4_y, \"Fun4\")\n",
    "\n",
    "# **Final Perceptron Training**\n",
    "final_X = np.column_stack([fun1_predictions, fun2_predictions, fun3_predictions, fun4_predictions])\n",
    "final_y = np.array([0, 1, 1, 0])\n",
    "\n",
    "final_predictions, actual_y = train_perceptron(final_X, final_y, \"Final Perceptron\")\n",
    "\n",
    "# **Confusion Matrix Plot**\n",
    "def plot_confusion_matrix(y_true, y_pred, title=\"Confusion Matrix\"):\n",
    "    cm = confusion_matrix(y_true, y_pred)\n",
    "    plt.figure(figsize=(5, 4))\n",
    "    sns.heatmap(cm, annot=True, fmt=\"d\", cmap=\"Blues\", xticklabels=[\"0 (False)\", \"1 (True)\"], yticklabels=[\"0 (False)\", \"1 (True)\"])\n",
    "    plt.xlabel(\"Predicted Label\")\n",
    "    plt.ylabel(\"Actual Label\")\n",
    "    plt.title(title)\n",
    "    plt.show()\n",
    "\n",
    "# **Plot Confusion Matrix for Final Perceptron**\n",
    "plot_confusion_matrix(actual_y, final_predictions, title=\"Final Perceptron Confusion Matrix\")\n"
   ]
  },
  {
   "cell_type": "code",
   "execution_count": 1,
   "id": "4ee96a4e-b644-415e-a3e6-c9ea1d3dcb11",
   "metadata": {},
   "outputs": [
    {
     "name": "stdout",
     "output_type": "stream",
     "text": [
      "Fun1 Accuracy: 100.00% | Predictions: [0 0 0 1]\n",
      "Fun2 Accuracy: 100.00% | Predictions: [0 0 1 0]\n",
      "Fun3 Accuracy: 100.00% | Predictions: [0 1 0 0]\n",
      "Fun4 Accuracy: 100.00% | Predictions: [1 0 0 0]\n",
      "Final Perceptron Accuracy: 100.00% | Predictions: [0 1 1 0]\n"
     ]
    },
    {
     "data": {
      "text/plain": [
       "array([0, 1, 1, 0])"
      ]
     },
     "execution_count": 1,
     "metadata": {},
     "output_type": "execute_result"
    }
   ],
   "source": [
    "\n",
    "# My Comments:\n",
    "# - The model is now simplified and more structured.\n",
    "# - Added a confusion matrix at the end for better evaluation.\n",
    "# - Trained perceptrons for multiple functions, including NAND.\n",
    "# - Final perceptron takes outputs from previous layers as inputs.\n",
    "# - Accuracy of each perceptron is printed for easy debugging.\n",
    "# - This should work well for learning simple Boolean functions.\n",
    "# - Overall, the perceptron is successfully trained and evaluated!"
   ]
  }
 ],
 "metadata": {
  "kernelspec": {
   "display_name": "Python 3 (ipykernel)",
   "language": "python",
   "name": "python3"
  },
  "language_info": {
   "codemirror_mode": {
    "name": "ipython",
    "version": 3
   },
   "file_extension": ".py",
   "mimetype": "text/x-python",
   "name": "python",
   "nbconvert_exporter": "python",
   "pygments_lexer": "ipython3",
   "version": "3.12.2"
  }
 },
 "nbformat": 4,
 "nbformat_minor": 5
}
